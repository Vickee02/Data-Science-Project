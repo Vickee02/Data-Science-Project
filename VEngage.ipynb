{
 "cells": [
  {
   "cell_type": "code",
   "execution_count": null,
   "id": "3b4890fe",
   "metadata": {},
   "outputs": [],
   "source": [
    "import pandas as pd\n",
    "df = pd.read_csv(r'C:\\Users\\admin\\OneDrive\\Desktop\\Phonebook.csv')"
   ]
  },
  {
   "cell_type": "code",
   "execution_count": null,
   "id": "0729818d",
   "metadata": {},
   "outputs": [],
   "source": [
    "df"
   ]
  },
  {
   "cell_type": "code",
   "execution_count": null,
   "id": "b250073d",
   "metadata": {},
   "outputs": [],
   "source": [
    "import csv\n",
    "import json\n",
    "import sqlite3\n",
    "\n",
    "class PhoneBook:\n",
    "    def __init__(self, database_name='phonebook.db'):\n",
    "        self.conn = sqlite3.connect(database_name)\n",
    "        self.cursor = self.conn.cursor()\n",
    "        self.create_table()\n",
    "\n",
    "    def create_table(self):\n",
    "        self.cursor.execute('''\n",
    "            CREATE TABLE IF NOT EXISTS phone_records (\n",
    "                id INTEGER PRIMARY KEY AUTOINCREMENT,\n",
    "                name TEXT,\n",
    "                email TEXT,\n",
    "                phone1 TEXT,\n",
    "                phone2 TEXT\n",
    "            )\n",
    "        ''')\n",
    "        self.conn.commit()\n",
    "\n",
    "    def read_from_csv(self, csv_file):\n",
    "        with open(csv_file, 'r') as file:\n",
    "            reader = csv.DictReader(file)\n",
    "            for row in reader:\n",
    "                self.cursor.execute('''\n",
    "                    INSERT INTO phone_records (Name, Email, Phone1, Phone2)\n",
    "                    VALUES (?, ?, ?, ?)\n",
    "                ''', (row['Name'], row['Email'], row['Phone 1'], row['Phone 2']))\n",
    "            self.conn.commit()\n",
    "\n",
    "    def execute_query(self, query):\n",
    "        try:\n",
    "            self.cursor.execute(query)\n",
    "            result = self.cursor.fetchall()\n",
    "            return result\n",
    "        except sqlite3.Error as e:\n",
    "            return f\"Error: {e}\"\n",
    "\n",
    "if __name__ == \"__main__\":\n",
    "    phone_book = PhoneBook()\n",
    "\n",
    "    # Reading from CSV\n",
    "    phone_book.read_from_csv(r'C:\\Users\\admin\\OneDrive\\Desktop\\Phonebook.csv')\n",
    "\n",
    "    # Example SQL-like queries\n",
    "    query_1 = \"SELECT * FROM phone_records LIMIT 10;\"\n",
    "    query_2 = \"SELECT * FROM phone_records WHERE Name='John Doe';\"\n",
    "    query_3 = \"INSERT INTO phone_records (Name, Email, Phone1, Phone2) VALUES ('Sample', 'sample@rediff.com', '646566', '97654774');\"\n",
    "    query_3_1 = \"SELECT * FROM phone_records where Name='Sample';\"\n",
    "    query_4 = \"DELETE FROM phone_records WHERE Name='John Doe';\"\n",
    "    query_4_1 = \"SELECT * FROM phone_records LIMIT 10;\"\n",
    "    \n",
    "\n",
    "    result_1 = phone_book.execute_query(query_1)\n",
    "    print(\"Result of Query 1:\")\n",
    "    print(result_1)\n",
    "\n",
    "    result_2 = phone_book.execute_query(query_2)\n",
    "    print(\"\\nResult of Query 2:\")\n",
    "    print(result_2)\n",
    "\n",
    "    result_3 = phone_book.execute_query(query_3)\n",
    "    print(\"\\nResult of Query 3:\")\n",
    "    print(result_3)\n",
    "    \n",
    "    result_3_1 = phone_book.execute_query(query_3_1)\n",
    "    print(\"\\nResult of Query 3_1:\")\n",
    "    print(result_3_1)\n",
    "\n",
    "    result_4 = phone_book.execute_query(query_4)\n",
    "    print(\"\\nResult of Query 4:\")\n",
    "    print(result_4)\n",
    "    \n",
    "    result_4_1 = phone_book.execute_query(query_4_1)\n",
    "    print(\"\\nResult of Query 4_1:\")\n",
    "    print(result_4_1)\n"
   ]
  },
  {
   "cell_type": "code",
   "execution_count": null,
   "id": "900d84b3",
   "metadata": {},
   "outputs": [],
   "source": []
  },
  {
   "cell_type": "code",
   "execution_count": null,
   "id": "f3c4bb4c",
   "metadata": {},
   "outputs": [],
   "source": []
  },
  {
   "cell_type": "code",
   "execution_count": null,
   "id": "3d719a04",
   "metadata": {},
   "outputs": [],
   "source": []
  },
  {
   "cell_type": "code",
   "execution_count": null,
   "id": "b839e794",
   "metadata": {},
   "outputs": [],
   "source": []
  },
  {
   "cell_type": "code",
   "execution_count": null,
   "id": "3b96f8a9",
   "metadata": {},
   "outputs": [],
   "source": []
  },
  {
   "cell_type": "code",
   "execution_count": null,
   "id": "07322b74",
   "metadata": {},
   "outputs": [],
   "source": []
  }
 ],
 "metadata": {
  "kernelspec": {
   "display_name": "Python 3 (ipykernel)",
   "language": "python",
   "name": "python3"
  },
  "language_info": {
   "codemirror_mode": {
    "name": "ipython",
    "version": 3
   },
   "file_extension": ".py",
   "mimetype": "text/x-python",
   "name": "python",
   "nbconvert_exporter": "python",
   "pygments_lexer": "ipython3",
   "version": "3.11.4"
  }
 },
 "nbformat": 4,
 "nbformat_minor": 5
}
